{
 "cells": [
  {
   "cell_type": "code",
   "execution_count": 152,
   "metadata": {
    "pycharm": {
     "name": "#%%\n"
    }
   },
   "outputs": [],
   "source": [
    "import pandas as pd"
   ]
  },
  {
   "cell_type": "code",
   "execution_count": 153,
   "metadata": {
    "collapsed": true,
    "pycharm": {
     "name": "#%%\n"
    }
   },
   "outputs": [],
   "source": [
    "inputs = pd.read_csv('./data/inputs.csv', header=None, names=['id','tx_id','sig_id','output_id'])\n",
    "transactions = pd.read_csv('./data/transactions.csv', header=None, names=['tx_id','block_id'])\n",
    "outputs = pd.read_csv('./data/outputs.csv', header=None, names=['id','tx_id','pk_id','value'])"
   ]
  },
  {
   "cell_type": "code",
   "execution_count": 154,
   "metadata": {
    "pycharm": {
     "name": "#%%\n"
    }
   },
   "outputs": [],
   "source": [
    "invalid_transactions = set()"
   ]
  },
  {
   "cell_type": "markdown",
   "source": [
    "Look for the double spending transactions:"
   ],
   "metadata": {
    "collapsed": false,
    "pycharm": {
     "name": "#%% md\n"
    }
   }
  },
  {
   "cell_type": "code",
   "execution_count": 155,
   "outputs": [
    {
     "data": {
      "text/plain": "            id   tx_id  sig_id  output_id\n8665      8666    8231    7941       7998\n12819    12820   12152    7941       7998\n33112    33113   30446   21807      21928\n33113    33114   30446   21807      21928\n76746    76747   61843  138980      65403\n76749    76750   61845  138980      65403\n275613  275614  204751  163625     249860\n279608  279609  207365  163625     249860",
      "text/html": "<div>\n<style scoped>\n    .dataframe tbody tr th:only-of-type {\n        vertical-align: middle;\n    }\n\n    .dataframe tbody tr th {\n        vertical-align: top;\n    }\n\n    .dataframe thead th {\n        text-align: right;\n    }\n</style>\n<table border=\"1\" class=\"dataframe\">\n  <thead>\n    <tr style=\"text-align: right;\">\n      <th></th>\n      <th>id</th>\n      <th>tx_id</th>\n      <th>sig_id</th>\n      <th>output_id</th>\n    </tr>\n  </thead>\n  <tbody>\n    <tr>\n      <th>8665</th>\n      <td>8666</td>\n      <td>8231</td>\n      <td>7941</td>\n      <td>7998</td>\n    </tr>\n    <tr>\n      <th>12819</th>\n      <td>12820</td>\n      <td>12152</td>\n      <td>7941</td>\n      <td>7998</td>\n    </tr>\n    <tr>\n      <th>33112</th>\n      <td>33113</td>\n      <td>30446</td>\n      <td>21807</td>\n      <td>21928</td>\n    </tr>\n    <tr>\n      <th>33113</th>\n      <td>33114</td>\n      <td>30446</td>\n      <td>21807</td>\n      <td>21928</td>\n    </tr>\n    <tr>\n      <th>76746</th>\n      <td>76747</td>\n      <td>61843</td>\n      <td>138980</td>\n      <td>65403</td>\n    </tr>\n    <tr>\n      <th>76749</th>\n      <td>76750</td>\n      <td>61845</td>\n      <td>138980</td>\n      <td>65403</td>\n    </tr>\n    <tr>\n      <th>275613</th>\n      <td>275614</td>\n      <td>204751</td>\n      <td>163625</td>\n      <td>249860</td>\n    </tr>\n    <tr>\n      <th>279608</th>\n      <td>279609</td>\n      <td>207365</td>\n      <td>163625</td>\n      <td>249860</td>\n    </tr>\n  </tbody>\n</table>\n</div>"
     },
     "execution_count": 155,
     "metadata": {},
     "output_type": "execute_result"
    }
   ],
   "source": [
    "double_spending_transactions = inputs[(inputs['output_id'].duplicated(keep=False)) & (inputs['output_id']!=-1)]\n",
    "double_spending_transactions"
   ],
   "metadata": {
    "collapsed": false,
    "pycharm": {
     "name": "#%%\n"
    }
   }
  },
  {
   "cell_type": "code",
   "execution_count": 156,
   "metadata": {
    "pycharm": {
     "name": "#%%\n"
    }
   },
   "outputs": [],
   "source": [
    "for _,transaction in double_spending_transactions.iterrows():\n",
    "    invalid_transactions.add(transaction['tx_id'])"
   ]
  },
  {
   "cell_type": "markdown",
   "metadata": {
    "pycharm": {
     "name": "#%% md\n"
    }
   },
   "source": [
    "Now we have to check that the sum(outputs) >= sum(inputs)"
   ]
  },
  {
   "cell_type": "markdown",
   "metadata": {
    "pycharm": {
     "name": "#%% md\n"
    }
   },
   "source": [
    "First we get a view in which we have each transaction associated with its input amount"
   ]
  },
  {
   "cell_type": "code",
   "execution_count": 157,
   "metadata": {
    "pycharm": {
     "name": "#%%\n"
    }
   },
   "outputs": [],
   "source": [
    "inputs_with_value = pd.merge(inputs, outputs, left_on='output_id', right_on='id')\n",
    "inputs_with_value.drop(columns=['output_id','pk_id','sig_id','id_x','id_y','tx_id_y'], inplace=True)\n",
    "inputs_with_value.rename(columns={'tx_id_x':'transaction_A'}, inplace=True)"
   ]
  },
  {
   "cell_type": "markdown",
   "metadata": {
    "pycharm": {
     "name": "#%% md\n"
    }
   },
   "source": [
    "This dataframes show the input amount of each transaction"
   ]
  },
  {
   "cell_type": "code",
   "execution_count": 158,
   "metadata": {
    "pycharm": {
     "name": "#%%\n"
    }
   },
   "outputs": [
    {
     "data": {
      "text/plain": "        transaction_A  input_value\n0                 172   5000000000\n1                 184   4000000000\n2                 186   3000000000\n3                 188   2900000000\n4                 193    100000000\n...               ...          ...\n116602         216618  13836000000\n116603         216622   5000000000\n116604         216623    300000000\n116605         216624      1000000\n116606         216625      5000000\n\n[116607 rows x 2 columns]",
      "text/html": "<div>\n<style scoped>\n    .dataframe tbody tr th:only-of-type {\n        vertical-align: middle;\n    }\n\n    .dataframe tbody tr th {\n        vertical-align: top;\n    }\n\n    .dataframe thead th {\n        text-align: right;\n    }\n</style>\n<table border=\"1\" class=\"dataframe\">\n  <thead>\n    <tr style=\"text-align: right;\">\n      <th></th>\n      <th>transaction_A</th>\n      <th>input_value</th>\n    </tr>\n  </thead>\n  <tbody>\n    <tr>\n      <th>0</th>\n      <td>172</td>\n      <td>5000000000</td>\n    </tr>\n    <tr>\n      <th>1</th>\n      <td>184</td>\n      <td>4000000000</td>\n    </tr>\n    <tr>\n      <th>2</th>\n      <td>186</td>\n      <td>3000000000</td>\n    </tr>\n    <tr>\n      <th>3</th>\n      <td>188</td>\n      <td>2900000000</td>\n    </tr>\n    <tr>\n      <th>4</th>\n      <td>193</td>\n      <td>100000000</td>\n    </tr>\n    <tr>\n      <th>...</th>\n      <td>...</td>\n      <td>...</td>\n    </tr>\n    <tr>\n      <th>116602</th>\n      <td>216618</td>\n      <td>13836000000</td>\n    </tr>\n    <tr>\n      <th>116603</th>\n      <td>216622</td>\n      <td>5000000000</td>\n    </tr>\n    <tr>\n      <th>116604</th>\n      <td>216623</td>\n      <td>300000000</td>\n    </tr>\n    <tr>\n      <th>116605</th>\n      <td>216624</td>\n      <td>1000000</td>\n    </tr>\n    <tr>\n      <th>116606</th>\n      <td>216625</td>\n      <td>5000000</td>\n    </tr>\n  </tbody>\n</table>\n<p>116607 rows × 2 columns</p>\n</div>"
     },
     "execution_count": 158,
     "metadata": {},
     "output_type": "execute_result"
    }
   ],
   "source": [
    "inputs_with_value = inputs_with_value.groupby('transaction_A',as_index=False).sum()\n",
    "inputs_with_value = inputs_with_value.rename(columns={'value':'input_value'})\n",
    "inputs_with_value"
   ]
  },
  {
   "cell_type": "markdown",
   "metadata": {
    "pycharm": {
     "name": "#%% md\n"
    }
   },
   "source": [
    "let's do the same for the outputs:"
   ]
  },
  {
   "cell_type": "code",
   "execution_count": 159,
   "metadata": {
    "pycharm": {
     "name": "#%%\n"
    }
   },
   "outputs": [],
   "source": [
    "transactions_balance = pd.merge(inputs_with_value, outputs, left_on='transaction_A', right_on='tx_id')\n",
    "transactions_balance = transactions_balance.drop(columns=['pk_id','transaction_A','id',])\n",
    "transactions_balance = transactions_balance.rename(columns={'value':'output_value'})\n",
    "transactions_balance = transactions_balance.groupby(['tx_id','input_value'], as_index=False)['output_value'].sum()"
   ]
  },
  {
   "cell_type": "code",
   "execution_count": 160,
   "metadata": {
    "pycharm": {
     "name": "#%%\n"
    }
   },
   "outputs": [
    {
     "data": {
      "text/plain": "        transaction_A  input_value   tx_id  block_id\n0                 172   5000000000     172       170\n1                 184   4000000000     184       181\n2                 186   3000000000     186       182\n3                 188   2900000000     188       183\n4                 193    100000000     193       187\n...               ...          ...     ...       ...\n116602         216618  13836000000  216618    100013\n116603         216622   5000000000  216622    100016\n116604         216623    300000000  216623    100016\n116605         216624      1000000  216624    100016\n116606         216625      5000000  216625    100016\n\n[116607 rows x 4 columns]",
      "text/html": "<div>\n<style scoped>\n    .dataframe tbody tr th:only-of-type {\n        vertical-align: middle;\n    }\n\n    .dataframe tbody tr th {\n        vertical-align: top;\n    }\n\n    .dataframe thead th {\n        text-align: right;\n    }\n</style>\n<table border=\"1\" class=\"dataframe\">\n  <thead>\n    <tr style=\"text-align: right;\">\n      <th></th>\n      <th>transaction_A</th>\n      <th>input_value</th>\n      <th>tx_id</th>\n      <th>block_id</th>\n    </tr>\n  </thead>\n  <tbody>\n    <tr>\n      <th>0</th>\n      <td>172</td>\n      <td>5000000000</td>\n      <td>172</td>\n      <td>170</td>\n    </tr>\n    <tr>\n      <th>1</th>\n      <td>184</td>\n      <td>4000000000</td>\n      <td>184</td>\n      <td>181</td>\n    </tr>\n    <tr>\n      <th>2</th>\n      <td>186</td>\n      <td>3000000000</td>\n      <td>186</td>\n      <td>182</td>\n    </tr>\n    <tr>\n      <th>3</th>\n      <td>188</td>\n      <td>2900000000</td>\n      <td>188</td>\n      <td>183</td>\n    </tr>\n    <tr>\n      <th>4</th>\n      <td>193</td>\n      <td>100000000</td>\n      <td>193</td>\n      <td>187</td>\n    </tr>\n    <tr>\n      <th>...</th>\n      <td>...</td>\n      <td>...</td>\n      <td>...</td>\n      <td>...</td>\n    </tr>\n    <tr>\n      <th>116602</th>\n      <td>216618</td>\n      <td>13836000000</td>\n      <td>216618</td>\n      <td>100013</td>\n    </tr>\n    <tr>\n      <th>116603</th>\n      <td>216622</td>\n      <td>5000000000</td>\n      <td>216622</td>\n      <td>100016</td>\n    </tr>\n    <tr>\n      <th>116604</th>\n      <td>216623</td>\n      <td>300000000</td>\n      <td>216623</td>\n      <td>100016</td>\n    </tr>\n    <tr>\n      <th>116605</th>\n      <td>216624</td>\n      <td>1000000</td>\n      <td>216624</td>\n      <td>100016</td>\n    </tr>\n    <tr>\n      <th>116606</th>\n      <td>216625</td>\n      <td>5000000</td>\n      <td>216625</td>\n      <td>100016</td>\n    </tr>\n  </tbody>\n</table>\n<p>116607 rows × 4 columns</p>\n</div>"
     },
     "execution_count": 160,
     "metadata": {},
     "output_type": "execute_result"
    }
   ],
   "source": [
    "pd.merge(inputs_with_value, transactions, left_on='transaction_A', right_on='tx_id')"
   ]
  },
  {
   "cell_type": "markdown",
   "metadata": {
    "pycharm": {
     "name": "#%% md\n"
    }
   },
   "source": [
    "The last thing to do is to check if the output is bigger than the input"
   ]
  },
  {
   "cell_type": "code",
   "execution_count": 161,
   "metadata": {
    "pycharm": {
     "name": "#%%\n"
    }
   },
   "outputs": [
    {
     "data": {
      "text/plain": "        tx_id  input_value  output_value\n28023  100929   5000000000    5000000010",
      "text/html": "<div>\n<style scoped>\n    .dataframe tbody tr th:only-of-type {\n        vertical-align: middle;\n    }\n\n    .dataframe tbody tr th {\n        vertical-align: top;\n    }\n\n    .dataframe thead th {\n        text-align: right;\n    }\n</style>\n<table border=\"1\" class=\"dataframe\">\n  <thead>\n    <tr style=\"text-align: right;\">\n      <th></th>\n      <th>tx_id</th>\n      <th>input_value</th>\n      <th>output_value</th>\n    </tr>\n  </thead>\n  <tbody>\n    <tr>\n      <th>28023</th>\n      <td>100929</td>\n      <td>5000000000</td>\n      <td>5000000010</td>\n    </tr>\n  </tbody>\n</table>\n</div>"
     },
     "execution_count": 161,
     "metadata": {},
     "output_type": "execute_result"
    }
   ],
   "source": [
    "transactions_balance = transactions_balance[transactions_balance['input_value'] < transactions_balance['output_value']]\n",
    "transactions_balance"
   ]
  },
  {
   "cell_type": "code",
   "execution_count": 162,
   "metadata": {
    "pycharm": {
     "name": "#%%\n"
    }
   },
   "outputs": [],
   "source": [
    "for _,transaction in transactions_balance.iterrows():\n",
    "    invalid_transactions.add(transaction['tx_id'])"
   ]
  },
  {
   "cell_type": "markdown",
   "metadata": {
    "pycharm": {
     "name": "#%% md\n"
    }
   },
   "source": [
    "Now we are going to check if there's some transaction where the output value is not >= 0:"
   ]
  },
  {
   "cell_type": "code",
   "execution_count": 163,
   "metadata": {
    "pycharm": {
     "name": "#%%\n"
    }
   },
   "outputs": [],
   "source": [
    "negative_output = outputs[outputs['value'] < 0]\n",
    "negative_output\n",
    "for _,transaction in negative_output.iterrows():\n",
    "    invalid_transactions.add(transaction['tx_id'])"
   ]
  },
  {
   "cell_type": "markdown",
   "metadata": {
    "pycharm": {
     "name": "#%% md\n"
    }
   },
   "source": [
    "Now we are going to see if for every input transaction there exist at least one output transaction"
   ]
  },
  {
   "cell_type": "code",
   "execution_count": 164,
   "metadata": {
    "pycharm": {
     "name": "#%%\n"
    }
   },
   "outputs": [
    {
     "data": {
      "text/plain": "Series([], Name: tx_id, dtype: int64)"
     },
     "execution_count": 164,
     "metadata": {},
     "output_type": "execute_result"
    }
   ],
   "source": [
    "inputs_tx_id  = inputs.groupby('tx_id', as_index=False).sum()['tx_id']\n",
    "outputs_tx_id = outputs.groupby('tx_id', as_index=False).sum()['tx_id']\n",
    "\n",
    "pd.concat([inputs_tx_id,outputs_tx_id]).drop_duplicates(keep=False)"
   ]
  },
  {
   "cell_type": "markdown",
   "metadata": {
    "pycharm": {
     "name": "#%% md\n"
    }
   },
   "source": [
    "This result shows that each input transaction has at least one output transaction."
   ]
  },
  {
   "cell_type": "markdown",
   "source": [
    "Removing Invalid value for the outputs"
   ],
   "metadata": {
    "collapsed": false,
    "pycharm": {
     "name": "#%% md\n"
    }
   }
  },
  {
   "cell_type": "markdown",
   "source": [
    "Checking if the sig_id of the inputs transaction correspond to the pk_id of the transaction where the output belongs"
   ],
   "metadata": {
    "collapsed": false,
    "pycharm": {
     "name": "#%% md\n"
    }
   }
  },
  {
   "cell_type": "code",
   "execution_count": 165,
   "outputs": [
    {
     "data": {
      "text/plain": "{8231, 12152, 30446, 61843, 61845, 100929, 105281, 138278, 204751, 207365}"
     },
     "execution_count": 165,
     "metadata": {},
     "output_type": "execute_result"
    }
   ],
   "source": [
    "signature_check =  pd.merge(inputs, outputs, left_on='output_id', right_on='id')\n",
    "signature_check = signature_check.drop(columns=['id_x','tx_id_y','output_id'])\n",
    "signature_check[signature_check['sig_id'] != signature_check['pk_id']]\n",
    "\n",
    "invalid_transactions.add(138278)\n",
    "invalid_transactions"
   ],
   "metadata": {
    "collapsed": false,
    "pycharm": {
     "name": "#%%\n"
    }
   }
  },
  {
   "cell_type": "markdown",
   "source": [
    "There're 2 nonvalid signatures. Since sig_id=-1 means that a non-standard script has been used, the only one to be removed is the tx_id=138278"
   ],
   "metadata": {
    "collapsed": false,
    "pycharm": {
     "name": "#%% md\n"
    }
   }
  },
  {
   "cell_type": "markdown",
   "source": [
    "Now we are going to remove from the dataframe \"transactions\" all the transactions which don't have a counterpart in inputs/ouputs.\n",
    "Since we've showed that for every input there's a corresponding output we are going to perform the check only on one dataframe."
   ],
   "metadata": {
    "collapsed": false,
    "pycharm": {
     "name": "#%% md\n"
    }
   }
  },
  {
   "cell_type": "code",
   "execution_count": 166,
   "outputs": [
    {
     "data": {
      "text/plain": "{8231, 12152, 30446, 61843, 61845, 100929, 105281, 138278, 204751, 207365}"
     },
     "execution_count": 166,
     "metadata": {},
     "output_type": "execute_result"
    }
   ],
   "source": [
    "inputs_tx_id  = inputs.groupby('tx_id', as_index=False).sum()['tx_id']\n",
    "transactions_tx_id = transactions.groupby('tx_id', as_index=False).sum()['tx_id']\n",
    "inputs_tx_id.shape[0]\n",
    "invalid_transactions"
   ],
   "metadata": {
    "collapsed": false,
    "pycharm": {
     "name": "#%%\n"
    }
   }
  },
  {
   "cell_type": "code",
   "execution_count": 167,
   "outputs": [],
   "source": [
    "cb_transactions = inputs[inputs['output_id']==-1]\n",
    "cb_transaction_output = pd.merge(cb_transactions,outputs, left_on='tx_id', right_on='tx_id').drop(columns=['id_x','sig_id','output_id','id_y','pk_id'])\n",
    "invalid_transactions.update(cb_transaction_output[cb_transaction_output['value'] != 5000000000]['tx_id'].values)"
   ],
   "metadata": {
    "collapsed": false,
    "pycharm": {
     "name": "#%%\n"
    }
   }
  },
  {
   "cell_type": "code",
   "execution_count": 168,
   "outputs": [
    {
     "name": "stdout",
     "output_type": "stream",
     "text": [
      "Actual invalid transactions: 998\n",
      "Actual invalid transactions: 1793\n",
      "Actual invalid transactions: 2326\n",
      "Actual invalid transactions: 2678\n",
      "Actual invalid transactions: 2897\n",
      "Actual invalid transactions: 3041\n",
      "Actual invalid transactions: 3121\n",
      "Actual invalid transactions: 3164\n",
      "Actual invalid transactions: 3190\n",
      "Actual invalid transactions: 3206\n",
      "Actual invalid transactions: 3215\n",
      "Actual invalid transactions: 3222\n",
      "Actual invalid transactions: 3226\n",
      "Actual invalid transactions: 3230\n",
      "Actual invalid transactions: 3234\n",
      "Actual invalid transactions: 3238\n",
      "Actual invalid transactions: 3239\n",
      "Actual invalid transactions: 3240\n",
      "Actual invalid transactions: 3241\n",
      "Actual invalid transactions: 3242\n",
      "Actual invalid transactions: 3243\n",
      "Actual invalid transactions: 3243\n"
     ]
    },
    {
     "data": {
      "text/plain": "3243"
     },
     "execution_count": 168,
     "metadata": {},
     "output_type": "execute_result"
    }
   ],
   "source": [
    "new_invalid_transactions = pd.Series(list(invalid_transactions)).rename('tx_id')\n",
    "previous_len = len(invalid_transactions)\n",
    "print(\"Actual invalid transactions: {}\".format(len(invalid_transactions)))\n",
    "flag = False\n",
    "while not flag:\n",
    "    invalid_output_ids = pd.merge(new_invalid_transactions, outputs,left_on='tx_id', right_on='id')['id']\n",
    "    new_invalid_transactions = pd.merge(inputs, invalid_output_ids, left_on='output_id', right_on='id')['tx_id']\n",
    "    previous_len = len(invalid_transactions)\n",
    "    invalid_transactions.update(new_invalid_transactions)\n",
    "    flag = previous_len == len(invalid_transactions)\n",
    "    print(\"Actual invalid transactions: {}\".format(len(invalid_transactions)))\n",
    "len(invalid_transactions)"
   ],
   "metadata": {
    "collapsed": false,
    "pycharm": {
     "name": "#%%\n"
    }
   }
  },
  {
   "cell_type": "code",
   "execution_count": 169,
   "outputs": [
    {
     "name": "stdout",
     "output_type": "stream",
     "text": [
      "Before: a= 292427, b= 216626, c=264310\n",
      "Number of invalid transaction : 3243\n",
      "After: a= 265944, b= 213383, c=259842\n"
     ]
    }
   ],
   "source": [
    "print(\"Before: a= {}, b= {}, c={}\".format(inputs.shape[0],transactions.shape[0],outputs.shape[0]))\n",
    "print(\"Number of invalid transaction : {}\".format(len(invalid_transactions)))\n",
    "for value in invalid_transactions:\n",
    "    inputs.drop(inputs[inputs['tx_id'] == value].index, inplace=True)\n",
    "    transactions.drop(transactions[transactions['tx_id'] == value].index, inplace=True)\n",
    "    outputs.drop(outputs[outputs['tx_id'] == value].index, inplace=True)\n",
    "print(\"After: a= {}, b= {}, c={}\".format(inputs.shape[0],transactions.shape[0],outputs.shape[0]))"
   ],
   "metadata": {
    "collapsed": false,
    "pycharm": {
     "name": "#%%\n"
    }
   }
  },
  {
   "cell_type": "code",
   "execution_count": 170,
   "outputs": [],
   "source": [
    "inputs.to_csv(\"./data/updated_inputs.csv\")\n",
    "transactions.to_csv(\"./data/updated_transactions.csv\")\n",
    "outputs.to_csv(\"././data/updated_outputs.csv\")"
   ],
   "metadata": {
    "collapsed": false,
    "pycharm": {
     "name": "#%%\n"
    }
   }
  }
 ],
 "metadata": {
  "kernelspec": {
   "display_name": "Python 3 (ipykernel)",
   "language": "python",
   "name": "python3"
  },
  "language_info": {
   "codemirror_mode": {
    "name": "ipython",
    "version": 3
   },
   "file_extension": ".py",
   "mimetype": "text/x-python",
   "name": "python",
   "nbconvert_exporter": "python",
   "pygments_lexer": "ipython3",
   "version": "3.9.6"
  }
 },
 "nbformat": 4,
 "nbformat_minor": 1
}