{
 "cells": [
  {
   "cell_type": "code",
   "execution_count": 5,
   "outputs": [],
   "source": [
    "import pandas as pd\n",
    "from pyvis.network import Network\n",
    "import networkx as nx\n"
   ],
   "metadata": {
    "collapsed": false,
    "pycharm": {
     "name": "#%%\n"
    }
   }
  },
  {
   "cell_type": "code",
   "execution_count": 6,
   "metadata": {
    "collapsed": true,
    "pycharm": {
     "name": "#%%\n"
    }
   },
   "outputs": [],
   "source": [
    "inputs = pd.read_csv('./data/updated_inputs.csv', index_col=0)\n",
    "transactions = pd.read_csv('./data/updated_transactions.csv')\n",
    "outputs = pd.read_csv('./data/updated_outputs.csv', index_col=0)"
   ]
  },
  {
   "cell_type": "code",
   "execution_count": 7,
   "outputs": [],
   "source": [
    "#Create a dataframe where we have sender, receiver, tx_id, value,\n",
    "\n",
    "df = pd.merge(inputs,outputs, left_on='tx_id', right_on='tx_id').drop(columns='output_id')\n",
    "df = df.rename(columns={'id_x':'input_id', 'sig_id':'sender', 'pk_id':'receiver', 'id_y':'output_id'})\n",
    "df = df[df['sender']!=0]\n",
    "df = df.sample(10000)\n",
    "G = nx.from_pandas_edgelist(df, 'sender','receiver',['value'])"
   ],
   "metadata": {
    "collapsed": false,
    "pycharm": {
     "name": "#%%\n"
    }
   }
  },
  {
   "cell_type": "code",
   "execution_count": 8,
   "outputs": [],
   "source": [
    "net = Network(width=1080, height=720)\n",
    "net.from_nx(G)\n",
    "net.force_atlas_2based()\n",
    "net.show_buttons(['physics'])\n",
    "net.show(\"Graph.html\")"
   ],
   "metadata": {
    "collapsed": false,
    "pycharm": {
     "name": "#%%\n"
    }
   }
  }
 ],
 "metadata": {
  "kernelspec": {
   "display_name": "Python 3",
   "language": "python",
   "name": "python3"
  },
  "language_info": {
   "codemirror_mode": {
    "name": "ipython",
    "version": 2
   },
   "file_extension": ".py",
   "mimetype": "text/x-python",
   "name": "python",
   "nbconvert_exporter": "python",
   "pygments_lexer": "ipython2",
   "version": "2.7.6"
  }
 },
 "nbformat": 4,
 "nbformat_minor": 0
}